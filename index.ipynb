{
 "cells": [
  {
   "cell_type": "markdown",
   "metadata": {},
   "source": [
    "# Regression with Linear Algebra - Lab\n",
    "\n",
    "## Introduction\n",
    "\n",
    "In this lab, we shall apply regression analysis using simple matrix manipulations to fit a model to given data, and then predict new values for previously unseen data. We shall follow the approach highlighted in previous lesson where we used numpy to build the appropriate matrices and vectors and solve for the $\\beta$ (unknown variables) vector. The beta vector will be used with test data to make new predictions. We shall also evaluate how good our model fit was. \n",
    "\n",
    "In order to make this experiment interesting. We shall use NumPy at every single stage of this experiment i.e. loading data, creating matrices, performing test train split, model fitting and evaluations.  \n",
    "\n",
    "## Objectives\n",
    "\n",
    "You will be able to:\n",
    "\n",
    "* Use linear algebra to apply simple regression modeling in Python and NumPy only\n",
    "* Apply train/test split using permutations in NumPy\n",
    "* Use matrix algebra with inverses and dot products to calculate the beta\n",
    "* Make predictions from the fitted model using previously unseen input features \n",
    "* Evaluate the fitted model by calculating the error between real and predicted values\n"
   ]
  },
  {
   "cell_type": "markdown",
   "metadata": {},
   "source": [
    "First let's import necessary libraries "
   ]
  },
  {
   "cell_type": "code",
   "execution_count": 1,
   "metadata": {},
   "outputs": [],
   "source": [
    "import csv # for reading csv file\n",
    "import numpy as np\n",
    "import pandas as pd\n"
   ]
  },
  {
   "cell_type": "markdown",
   "metadata": {},
   "source": [
    "## Dataset \n",
    "\n",
    "The dataset we will use for this experiment is \"**Sales Prices in the City of Windsor, Canada**\", something very similar to the Boston Housing dataset. This dataset contains a number of input (independent) variables, including area, number of bedrooms/bathrooms, facilities(AC/garage) etc. and an output (dependent) variable, **price**. We shall formulate a linear algebra problem to find linear mappings from input to out features using the equation provided in the previous lesson. \n",
    "\n",
    "This will allow us to find a relationship between house features and house price for the given data, allowing us to find unknown prices for houses, given the input features.  \n",
    "\n",
    "A description of dataset and included features is available at [THIS LINK](https://rdrr.io/cran/Ecdat/man/Housing.html)\n",
    "\n",
    "In your repo, the dataset is available as `windsor_housing.csv` containing following variables:\n",
    "\n",
    "there are 11 input features (first 11 columns):\n",
    "\n",
    "\tlotsize\tbedrooms\tbathrms\tstories\tdriveway\trecroom\tfullbase\tgashw\tairco\tgaragepl\tprefarea\n",
    "\n",
    "and 1 output feature i.e. **price** (12th column). \n",
    "\n",
    "The focus of this lab is not really answering a preset analytical question, but to learn how we can perform a regression experiment, similar to one we performed in statsmodels, using mathematical manipulations. So we we wont be using any Pandas or statsmodels goodness here. The key objectives here are to a) understand regression with matrix algebra, and b) Mastery in NumPy scientific computation. "
   ]
  },
  {
   "cell_type": "markdown",
   "metadata": {},
   "source": [
    "## Stage 1: Prepare Data for Modeling \n",
    "\n",
    "Let's give you a head start by importing the dataset. We shall perform following steps to get the data ready for analysis:\n",
    "\n",
    "* Initialize an empty list `data` for loading data\n",
    "* Read the csv file containing complete (raw) `windsor_housing.csv`. [Use `csv.reader()` for loading data.](https://docs.python.org/3/library/csv.html). Store this in `data` one row at a time.\n",
    "\n",
    "* Drop the first row of csv file as it contains the names of variables (header) which won't be used during analysis (keeping this will cause errors as it contains text values).\n",
    "\n",
    "* Append a column of all 1s to the data (bias) as the first column\n",
    "\n",
    "* Convert `data` to a numpy array and inspect first few rows \n",
    "\n",
    "NOTE: `read.csv()` would read the csv as a text file, so we must convert the contents to float at some stage. "
   ]
  },
  {
   "cell_type": "code",
   "execution_count": 2,
   "metadata": {},
   "outputs": [
    {
     "data": {
      "text/plain": [
       "array([[1.00e+00, 5.85e+03, 3.00e+00, 1.00e+00, 2.00e+00, 1.00e+00,\n",
       "        0.00e+00, 1.00e+00, 0.00e+00, 0.00e+00, 1.00e+00, 0.00e+00,\n",
       "        4.20e+04],\n",
       "       [1.00e+00, 4.00e+03, 2.00e+00, 1.00e+00, 1.00e+00, 1.00e+00,\n",
       "        0.00e+00, 0.00e+00, 0.00e+00, 0.00e+00, 0.00e+00, 0.00e+00,\n",
       "        3.85e+04],\n",
       "       [1.00e+00, 3.06e+03, 3.00e+00, 1.00e+00, 1.00e+00, 1.00e+00,\n",
       "        0.00e+00, 0.00e+00, 0.00e+00, 0.00e+00, 0.00e+00, 0.00e+00,\n",
       "        4.95e+04],\n",
       "       [1.00e+00, 6.65e+03, 3.00e+00, 1.00e+00, 2.00e+00, 1.00e+00,\n",
       "        1.00e+00, 0.00e+00, 0.00e+00, 0.00e+00, 0.00e+00, 0.00e+00,\n",
       "        6.05e+04],\n",
       "       [1.00e+00, 6.36e+03, 2.00e+00, 1.00e+00, 1.00e+00, 1.00e+00,\n",
       "        0.00e+00, 0.00e+00, 0.00e+00, 0.00e+00, 0.00e+00, 0.00e+00,\n",
       "        6.10e+04]])"
      ]
     },
     "execution_count": 2,
     "metadata": {},
     "output_type": "execute_result"
    }
   ],
   "source": [
    "# Your Code here\n",
    "data = []\n",
    "\n",
    "# x= pd.read_csv('windsor_housing.csv', header=None)\n",
    "# z= x.values\n",
    "# z\n",
    "# x[1:] \n",
    "#to do this in pandas where you rmeove the headers \n",
    "\n",
    "data = []\n",
    "\n",
    "#Read the data from the csv file\n",
    "with open('windsor_housing.csv') as f:\n",
    "    raw = csv.reader(f)\n",
    "    # Drop the very first line as it contains names for columns - not actual data.\n",
    "    next(raw)\n",
    "    # Read one row at a time. Append one to each row\n",
    "    for row in raw:\n",
    "        ones = [1.0]\n",
    "        for r in row:\n",
    "            ones.append(float(r))\n",
    "        # Append the row to data \n",
    "        data.append(ones)\n",
    "data = np.array(data)\n",
    "data[:5,:]\n",
    "\n",
    "\n",
    "\n",
    "\n",
    "\n",
    "\n",
    "\n",
    "# First 5 rows of raw data \n",
    "\n",
    "# array([[1.00e+00, 5.85e+03, 3.00e+00, 1.00e+00, 2.00e+00, 1.00e+00,\n",
    "#         0.00e+00, 1.00e+00, 0.00e+00, 0.00e+00, 1.00e+00, 0.00e+00,\n",
    "#         4.20e+04],\n",
    "#        [1.00e+00, 4.00e+03, 2.00e+00, 1.00e+00, 1.00e+00, 1.00e+00,\n",
    "#         0.00e+00, 0.00e+00, 0.00e+00, 0.00e+00, 0.00e+00, 0.00e+00,\n",
    "#         3.85e+04],\n",
    "#        [1.00e+00, 3.06e+03, 3.00e+00, 1.00e+00, 1.00e+00, 1.00e+00,\n",
    "#         0.00e+00, 0.00e+00, 0.00e+00, 0.00e+00, 0.00e+00, 0.00e+00,\n",
    "#         4.95e+04],\n",
    "#        [1.00e+00, 6.65e+03, 3.00e+00, 1.00e+00, 2.00e+00, 1.00e+00,\n",
    "#         1.00e+00, 0.00e+00, 0.00e+00, 0.00e+00, 0.00e+00, 0.00e+00,\n",
    "#         6.05e+04],\n",
    "#        [1.00e+00, 6.36e+03, 2.00e+00, 1.00e+00, 1.00e+00, 1.00e+00,\n",
    "#         0.00e+00, 0.00e+00, 0.00e+00, 0.00e+00, 0.00e+00, 0.00e+00,\n",
    "#         6.10e+04]])"
   ]
  },
  {
   "cell_type": "markdown",
   "metadata": {},
   "source": [
    "## Step 2: Perform a 80/20 test train Split\n",
    "\n",
    "Explore NumPy's official documentation to manually split a dataset using `numpy.random.shuffle()`,  `numpy.random.permutations()` or using simple resampling method. \n",
    "* Perform a **RANDOM** 80/20 split on data using a method of your choice , in NumPy using one of the methods above. \n",
    "* Create x_test, y_test, x_train and y_train arrays from the split data.\n",
    "* Inspect the contents to see if the split performed as expected. "
   ]
  },
  {
   "cell_type": "code",
   "execution_count": 7,
   "metadata": {},
   "outputs": [
    {
     "name": "stdout",
     "output_type": "stream",
     "text": [
      "Raw data Shape:  (546, 13)\n",
      "Train/Test Split: (437, 13) (109, 13)\n",
      "x_train, y_train, x_test, y_test: (437, 12) (437,) (109, 12) (109,)\n"
     ]
    }
   ],
   "source": [
    "# Your code here \n",
    "training_idx = np.random.randint(data.shape[0], size=round(546*.8))\n",
    "test_idx = np.random.randint(data.shape[0], size=round(546*.2))\n",
    "training, test = data[training_idx,:], data[test_idx,:]\n",
    "\n",
    "# Check the shape of datasets\n",
    "print ('Raw data Shape: ', data.shape)\n",
    "print ('Train/Test Split:', training.shape, test.shape)\n",
    "\n",
    "# Create x and y for test and training sets\n",
    "x_train = training[:,:-1]\n",
    "y_train = training [:,-1]\n",
    "\n",
    "x_test = test[:,:-1]\n",
    "y_test = test[:,-1]\n",
    "\n",
    "# Check the shape of datasets\n",
    "print ('x_train, y_train, x_test, y_test:', x_train.shape, y_train.shape, x_test.shape, y_test.shape)\n",
    "\n",
    "# Raw data Shape:  (546, 13)\n",
    "# Train/Test Split: (437, 13) (109, 13)\n",
    "# x_train, y_train, x_test, y_test: (437, 12) (437,) (109, 12) (109,)"
   ]
  },
  {
   "cell_type": "code",
   "execution_count": 8,
   "metadata": {},
   "outputs": [
    {
     "data": {
      "text/plain": [
       "array([ 50000.,  60000.,  64500.,  82000.,  53000.,  60500.,  43500.,\n",
       "        80000.,  54800.,  38000.,  37900.,  80000.,  73500.,  58000.,\n",
       "        87500.,  60000.,  70000.,  61000., 113000.,  42300.,  54500.,\n",
       "        45000.,  98000.,  40500., 120000.,  35000.,  35000.,  32500.,\n",
       "        61700.,  72000.,  58500.,  57500.,  42000., 102000.,  95500.,\n",
       "        47500., 140000.,  66000.,  25000.,  50000.,  60000.,  78000.,\n",
       "       124000.,  68000.,  46000., 105000., 120000.,  32500.,  72000.,\n",
       "        90000.,  30000.,  64900.,  49000.,  57500.,  52500.,  72000.,\n",
       "        37900.,  43000.,  42000.,  92500., 132000.,  89000.,  62600.,\n",
       "        77000.,  72000.,  43000., 101000.,  95000.,  57500.,  48000.,\n",
       "       105000.,  42000.,  57500.,  89000.,  50000.,  41000.,  51000.,\n",
       "        44500.,  90000.,  90000.,  66000.,  65000.,  59900.,  64900.,\n",
       "        62000.,  48900.,  44900.,  80000.,  50000.,  70000., 120000.,\n",
       "        73000.,  70000.,  95000.,  41000.,  60000.,  74500.,  68100.,\n",
       "        56000.,  60000.,  95000., 112000.,  72500.,  61000.,  37000.,\n",
       "        58000.,  45000., 100500.,  94700.,  88500.,  50000., 174500.,\n",
       "        55000.,  35000.,  35000.,  70000.,  96500.,  82000.,  42000.,\n",
       "        25000.,  60000.,  85000.,  44900., 113750.,  67000.,  91700.,\n",
       "        48000.,  75000.,  88500.,  62000.,  60000.,  37900.,  53900.,\n",
       "        85000.,  63900.,  98500.,  50000.,  79500.,  59500.,  95000.,\n",
       "        94700.,  93000.,  70500.,  43000.,  53500.,  42000.,  87250.,\n",
       "        80000.,  43000.,  50000.,  26500.,  49000.,  52500.,  38000.,\n",
       "        44000.,  56000., 175000.,  47000.,  55000.,  98500.,  89000.,\n",
       "        44500.,  60000.,  70000.,  64500.,  40500.,  59500., 175000.,\n",
       "        57250.,  38000.,  67900.,  49500.,  48000., 120000.,  47000.,\n",
       "        69000.,  71900.,  45000., 163000., 140000.,  82000.,  54000.,\n",
       "       174500.,  58000.,  62000.,  90000.,  32500.,  78000.,  52000.,\n",
       "        52000.,  98000.,  55000.,  91500., 105000., 126500.,  66000.,\n",
       "        52500.,  34400.,  54000.,  74500.,  53500.,  96500.,  91700.,\n",
       "        99000.,  38000.,  97000.,  66000.,  25000.,  98000.,  82000.,\n",
       "        80000.,  67000.,  30000.,  46500.,  60000.,  87500.,  40750.,\n",
       "        32500.,  90000.,  60000.,  55000.,  58500.,  55000., 108000.,\n",
       "        74500.,  44700.,  85000.,  88500.,  60000.,  49000., 126500.,\n",
       "        50000.,  64500., 103000.,  70000.,  50000.,  53000.,  73000.,\n",
       "        50000.,  94500.,  69000.,  48000.,  65500.,  75000.,  65000.,\n",
       "        64500.,  33500.,  68500., 130000.,  41000.,  84900.,  66000.,\n",
       "        80000.,  58000.,  86900.,  60000.,  36000.,  70000.,  44000.,\n",
       "        30500., 155000.,  95000.,  67000.,  57000.,  32500.,  54000.,\n",
       "        54500.,  94500., 114000.,  60000.,  47000.,  69900.,  99000.,\n",
       "        80000.,  52000.,  35500.,  58000.,  38000.,  66000.,  80000.,\n",
       "       103000.,  45000.,  60000.,  59000.,  83900., 113750.,  53000.,\n",
       "        78000.,  50000.,  48000.,  86000., 175000.,  59900., 101000.,\n",
       "       175000.,  92000., 106000.,  50000.,  60500.,  75000.,  52000.,\n",
       "        61000., 107000.,  52000.,  30000.,  42000.,  37000.,  73000.,\n",
       "       120000., 124000.,  48500.,  79000.,  57000.,  67000., 126500.,\n",
       "        74500.,  56000.,  70500.,  47600.,  54500., 120000., 115442.,\n",
       "        27000.,  52500.,  46500.,  86000.,  57000.,  52000.,  52900.,\n",
       "        48900.,  88500.,  80000.,  50000.,  99000., 103500., 123500.,\n",
       "        38000.,  52500.,  95000.,  47500.,  76000.,  82500.,  58500.,\n",
       "        72000., 114900.,  70000.,  53000.,  42000.,  64900.,  68500.,\n",
       "        51000., 105000.,  65000.,  84000.,  60000.,  61500.,  74900.,\n",
       "        43000., 110000.,  86900.,  50000.,  50000.,  58000.,  72500.,\n",
       "        57500.,  48000.,  69500.,  83900.,  65000.,  62600.,  40750.,\n",
       "        42300.,  67000.,  88500.,  67000.,  72000.,  87000.,  34000.,\n",
       "        33500.,  75000.,  75000.,  60000.,  85000.,  54500., 122500.,\n",
       "        39000.,  34000.,  62000.,  77000.,  67000.,  44000.,  88000.,\n",
       "        47000.,  98500.,  78000.,  57250.,  95000.,  49000.,  95000.,\n",
       "       190000.,  92000.,  54000.,  50000.,  73500.,  57000.,  61000.,\n",
       "        87000.,  67000.,  92500.,  82000.,  62500.,  87500.,  26500.,\n",
       "        52500., 106000.,  45000.,  26000.,  45000.,  93000.,  40500.,\n",
       "        60000.,  32000.,  27000.,  46500., 101000.,  91700.,  68500.,\n",
       "        95000.,  70000.,  86000., 103500.,  42900.,  44500.,  48000.,\n",
       "        72000.,  55000.,  75000.])"
      ]
     },
     "execution_count": 8,
     "metadata": {},
     "output_type": "execute_result"
    }
   ],
   "source": [
    "training[:,-1]\n"
   ]
  },
  {
   "cell_type": "markdown",
   "metadata": {},
   "source": [
    "## Step 3: Calculate the `beta` \n",
    "\n",
    "With our X and y in place, We can now compute our beta values with x_train and y_train as:\n",
    "#### $\\beta$ = (x_train<sup>T</sup> . x_train)<sup>-1</sup> . x_train<sup>T</sup> . y_train \n",
    "\n",
    "* Using numpy operations (transpose, inverse) that we saw earlier, compute the above equation in steps.\n",
    "* Print your beta values"
   ]
  },
  {
   "cell_type": "code",
   "execution_count": 9,
   "metadata": {},
   "outputs": [
    {
     "name": "stdout",
     "output_type": "stream",
     "text": [
      "[-1.21799966e+03  3.46315443e+00  6.53457869e+02  1.54534901e+04\n",
      "  5.63564270e+03  5.57842086e+03 -1.01339918e+03  6.59791002e+03\n",
      "  1.34893632e+04  1.54269890e+04  5.97625469e+03  1.35175416e+04]\n"
     ]
    }
   ],
   "source": [
    "# Your code here \n",
    "# Calculate Xt.X and Xt.y for beta = (XT . X)-1 . XT . y - as seen in previous lessons\n",
    "Xt = np.transpose(x_train)\n",
    "XtX = np.dot(Xt,x_train)\n",
    "Xty = np.dot(Xt,y_train)\n",
    "\n",
    "# Calculate inverse of Xt.X\n",
    "XtX_inv = np.linalg.inv(XtX)\n",
    "\n",
    "# Take the dot product of XtX_inv with Xty to compute beta\n",
    "beta = XtX_inv.dot(Xty)\n",
    "\n",
    "# Print the values of computed beta\n",
    "print(beta)\n",
    "\n",
    "\n",
    "# Calculated beta values\n",
    "\n",
    "# [-3.07118956e+03  2.13543921e+00  4.04283395e+03  1.33559881e+04\n",
    "#   5.75279185e+03  7.82810082e+03  3.73584043e+03  6.51098935e+03\n",
    "#   1.28802060e+04  1.09853850e+04  6.14947126e+03  1.05813305e+04]"
   ]
  },
  {
   "cell_type": "markdown",
   "metadata": {},
   "source": [
    "## Step 4: Make Predictions\n",
    "Great , we now have a set of coefficients that describe the linear mappings between X and y. We can now use the calculated beta values  with the test datasets that we left out to calculate y predictions. \n",
    "For this we need to perform the following tasks:"
   ]
  },
  {
   "cell_type": "markdown",
   "metadata": {},
   "source": [
    "Now we shall all features in each row in turn and multiply it with the beta computed above. The result will give a prediction for each row which we can append to a new array of predictions.\n",
    "\n",
    "#### $\\hat{y}$ = x.$\\beta$ = $\\beta$<sub>0</sub> + $\\beta$<sub>1</sub> . x<sub>1</sub> + $\\beta$<sub>2</sub> . x<sub>2</sub> + .. + $\\beta$<sub>m</sub> . x<sub>m</sub>\n",
    "\n",
    "\n",
    "* Create new empty list (y_pred) for saving predictions.\n",
    "* For each row of x_test, take the dot product of the row with beta to calculate the prediction for that row.\n",
    "* Append the predictions to y_pred.\n",
    "* Print the new set of predictions."
   ]
  },
  {
   "cell_type": "code",
   "execution_count": 10,
   "metadata": {},
   "outputs": [
    {
     "name": "stdout",
     "output_type": "stream",
     "text": [
      "[90539.32353278316, 40747.613638732735, 121362.56803501332, 68160.69461393362, 49739.125983813, 76963.60852064373, 53087.382611028115, 85861.23572194207, 39293.08877622032, 53087.382611028115, 71464.40086150123, 61433.41809385449, 49232.11352478013, 72524.7676414444, 64552.943400252465, 107751.79268795095, 91519.19379963366, 46378.714861580665, 68160.69461393362, 82128.54595710448, 82771.71378897801, 40710.23987142871, 62828.14986726012, 107410.67418946393, 76783.2856229535, 67441.92523950878, 101596.7138812512, 57343.073913640794, 80486.51898930888, 43435.0335922103, 40782.245183078274, 93155.23962886658, 61108.5314801311, 74240.8424983645, 56060.544799864474, 56218.700043126504, 72116.60502386442, 50235.59058244385, 30143.077372377098, 80890.09239291084, 99409.22120435679, 55959.479172580686, 73106.13197398442, 39916.45657443993, 40609.0874613506, 58186.9095104161, 36762.243816037866, 32844.337831328725, 86807.65635892288, 46863.55648241814, 53422.758869198085, 34788.24578834244, 92359.64327594059, 47970.60392848365, 73199.56704413664, 52890.59651925656, 52359.51102855619, 58804.32965099967, 71311.63383430325, 65519.940326627475, 49310.27314081968, 65519.940326627475, 33766.6152301492, 62199.854985037484, 31182.02370274311, 82276.07531098445, 128597.38118241275, 56531.54591522788, 99409.22120435679, 67854.26527102635, 46378.714861580665, 85361.3728905787, 85861.23572194207, 60317.350313462535, 39362.35186491139, 114046.96960736871, 69095.84597925923, 54754.70929969079, 58096.52221962865, 41357.14093147828, 50760.206047086795, 70407.74563749414, 111391.92517364357, 59674.438563113465, 58359.46445644561, 45910.7600836646, 38272.191261767286, 53598.83071042899, 79215.64990832095, 100939.11687051294, 92793.43426136827, 48474.52412028157, 74783.85397280916, 86512.18352810829, 82128.54595710448, 52359.51102855619, 58186.9095104161, 57343.073913640794, 75536.55002651428, 69095.84597925923, 41545.47302821634, 57454.819897915, 35518.98348629735, 42440.017838000065, 87737.58643837961, 79215.64990832095, 71311.63383430325, 48283.449800585026, 73106.13197398442]\n"
     ]
    }
   ],
   "source": [
    "# Your code here \n",
    "y_pred=[]\n",
    "for row in x_test:\n",
    "    pred = row.dot(beta)\n",
    "    y_pred.append(pred)\n",
    "    \n",
    "print (y_pred)"
   ]
  },
  {
   "cell_type": "markdown",
   "metadata": {},
   "source": [
    "## Step 5: Evaluate Model \n",
    "\n",
    "### Visualize Actual vs. Predicted\n",
    "This is exciting, so now our model can use the beta value to predict the price of houses given the input features. Let's plot these predictions against the actual values in y_test to see how much our model deviates. "
   ]
  },
  {
   "cell_type": "code",
   "execution_count": 12,
   "metadata": {},
   "outputs": [
    {
     "data": {
      "image/png": "[encoded data removed]",
      "text/plain": [
       "<Figure size 432x288 with 1 Axes>"
      ]
     },
     "metadata": {},
     "output_type": "display_data"
    }
   ],
   "source": [
    "# Plot predicted and actual values as line plots\n",
    "\n",
    "import matplotlib.pyplot as plt\n",
    "plt.style.use('ggplot')\n",
    "plt.plot(y_pred, linestyle='-', marker='o', label='predictions')\n",
    "plt.plot(y_test, linestyle='-', marker='o', label='actual values')\n",
    "plt.title('Actual vs. predicted values')\n",
    "plt.legend()\n",
    "plt.show()\n"
   ]
  },
  {
   "cell_type": "markdown",
   "metadata": {},
   "source": [
    "![](diff.png)"
   ]
  },
  {
   "cell_type": "markdown",
   "metadata": {},
   "source": [
    "This doesn't look so bad, does it ? Our model, although isn't perfect at this stage, is making a good attempt to predict house prices although a few prediction seem a bit out. There could a number of reasons for this. Let's try to dig a bit deeper to check model's predictive abilities by comparing these prediction with actual values of y_test individually. That will help us calculate the RMSE value (Root Mean Squared Error) for our model. \n",
    "### Root Mean Squared Error\n",
    "Here is the formula for this again. \n",
    "\n",
    "![](rmse.jpg)\n"
   ]
  },
  {
   "cell_type": "markdown",
   "metadata": {},
   "source": [
    "* Initialize an empty array `err`.\n",
    "* for each row in y_test and y_pred, take the squared difference and append error for each row in err array. \n",
    "* Calculate RMSE from `err` using the formula shown above. "
   ]
  },
  {
   "cell_type": "code",
   "execution_count": 15,
   "metadata": {},
   "outputs": [
    {
     "data": {
      "text/plain": [
       "15794.171835834712"
      ]
     },
     "execution_count": 15,
     "metadata": {},
     "output_type": "execute_result"
    }
   ],
   "source": [
    "# Calculate RMSE\n",
    "err=[]\n",
    "for x,y in zip(y_pred,y_test):\n",
    "    sq_err = (x - y) ** 2\n",
    "    err.append(sq_err)\n",
    "mean_sq_err = np.array(err).mean()\n",
    "root_mean_sq_err = np.sqrt(mean_sq_err)\n",
    "root_mean_sq_err\n",
    "# Due to random split, your answers may vary \n",
    "\n",
    "# RMSE = 16401.913562758735"
   ]
  },
  {
   "cell_type": "markdown",
   "metadata": {},
   "source": [
    "### Normalized Root Mean Squared Error\n",
    "The above error is clearly in terms of the dependant variable i.e. the final house price. We can also use a normlized mean squared error in case of multiple regression which can be calculated from RMSE using following formula:\n",
    "\n",
    "* Calculate normalized Root Mean Squared Error"
   ]
  },
  {
   "cell_type": "markdown",
   "metadata": {},
   "source": [
    "<img src=\"nrmse.png\" width=300>"
   ]
  },
  {
   "cell_type": "code",
   "execution_count": 16,
   "metadata": {},
   "outputs": [
    {
     "data": {
      "text/plain": [
       "0.0957222535505134"
      ]
     },
     "execution_count": 16,
     "metadata": {},
     "output_type": "execute_result"
    }
   ],
   "source": [
    "# Calculate NRMSE\n",
    "root_mean_sq_err/(y_train.max() - y_train.min())\n",
    "\n",
    "# Due to random split, your answers may vary \n",
    "\n",
    "# 0.09940553674399233"
   ]
  },
  {
   "cell_type": "markdown",
   "metadata": {},
   "source": [
    "SO there it is. A complete multiple regression analysis using nothing but numpy. Having good programming skills in numpy would allow to dig deeper into analytical algorithms in machine learning and deep learning. Using matrix multiplication techniques we saw here, we can easily build a whole neural network from scratch. "
   ]
  },
  {
   "cell_type": "markdown",
   "metadata": {},
   "source": [
    "## Level up - Optional \n",
    "\n",
    "* Calculated the R_squared and adjusted R_squared for above experiment. \n",
    "* Plot the residuals (similar to statsmodels) and comment on the variance and heteroscedascticity. \n",
    "* Run the experiment in statsmodels and compare the performance of both approaches in terms of computational cost."
   ]
  },
  {
   "cell_type": "markdown",
   "metadata": {},
   "source": [
    "## Summary\n",
    "\n",
    "So there we have it. A predictive model for predicting house prices in a given dataset. Remember this is a very naive implementation of regression modeling. The purpose here was to get an introduction to the applications of linear algebra into machine learning and predictive analysis. We still have a number of shortcomings in our modeling approach and we can further apply a number of data modeling techniques to improve this model. "
   ]
  }
 ],
 "metadata": {
  "kernelspec": {
   "display_name": "Python 3",
   "language": "python",
   "name": "python3"
  },
  "language_info": {
   "codemirror_mode": {
    "name": "ipython",
    "version": 3
   },
   "file_extension": ".py",
   "mimetype": "text/x-python",
   "name": "python",
   "nbconvert_exporter": "python",
   "pygments_lexer": "ipython3",
   "version": "3.6.6"
  }
 },
 "nbformat": 4,
 "nbformat_minor": 2
}
